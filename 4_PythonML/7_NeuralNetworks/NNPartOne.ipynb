{
 "cells": [
  {
   "cell_type": "markdown",
   "id": "dfb4e4ae",
   "metadata": {},
   "source": [
    "# Building a Simple Neural Network, right from the start and from scratch\n",
    "\n",
    "Need to add LaTeX notes for this topic. "
   ]
  }
 ],
 "metadata": {
  "language_info": {
   "name": "python"
  }
 },
 "nbformat": 4,
 "nbformat_minor": 5
}
