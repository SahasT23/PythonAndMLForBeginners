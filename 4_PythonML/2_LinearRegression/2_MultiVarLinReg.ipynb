{
 "cells": [
  {
   "cell_type": "markdown",
   "id": "ae01656f",
   "metadata": {},
   "source": [
    "Explain how multi variate linear regression works and include:\n",
    "\n",
    "1. Explaining how the model will be designed.\n",
    "2. Model tuning and refinement.\n",
    "3. Gradient Descent explained.\n",
    "4. Vector Calculus for the features. \n",
    "5. Feature selection etc. \n",
    "6. Use real world data set.S"
   ]
  }
 ],
 "metadata": {
  "language_info": {
   "name": "python"
  }
 },
 "nbformat": 4,
 "nbformat_minor": 5
}
