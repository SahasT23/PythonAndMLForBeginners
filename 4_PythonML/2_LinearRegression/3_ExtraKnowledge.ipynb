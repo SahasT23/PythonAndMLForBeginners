{
 "cells": [
  {
   "cell_type": "markdown",
   "id": "2b4ec364",
   "metadata": {},
   "source": [
    "1. Add regularisation in more detail (do this to set 1 and 2 as well)\n",
    "2. more complex forms of gradient descent.\n",
    "3. Other model fitting methods.\n",
    "4. Intro to pipelines.\n",
    "5. cross-training?S"
   ]
  }
 ],
 "metadata": {
  "language_info": {
   "name": "python"
  }
 },
 "nbformat": 4,
 "nbformat_minor": 5
}
