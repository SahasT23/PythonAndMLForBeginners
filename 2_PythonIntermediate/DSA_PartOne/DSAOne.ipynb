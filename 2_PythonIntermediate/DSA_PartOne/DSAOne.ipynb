{
 "cells": [
  {
   "cell_type": "markdown",
   "id": "16fd8bd3",
   "metadata": {},
   "source": [
    "#  DSA Part One: Core Data Structures in Python (Beginner Edition)\n",
    "\n",
    "---\n",
    "\n",
    "## 1.  `list` – Dynamic Array\n",
    "\n",
    "Think of a list like a row of boxes where you can store anything: numbers, words, even other lists."
   ]
  },
  {
   "cell_type": "code",
   "execution_count": 1,
   "id": "ff63414e",
   "metadata": {},
   "outputs": [
    {
     "name": "stdout",
     "output_type": "stream",
     "text": [
      "30\n"
     ]
    }
   ],
   "source": [
    "my_list = [10, 20, 30]\n",
    "my_list.append(40)       # Add to the end\n",
    "my_list.insert(1, 15)    # Insert at index 1\n",
    "my_list.remove(20)       # Remove value 20\n",
    "print(my_list[2])        # Access item at index 2"
   ]
  },
  {
   "cell_type": "code",
   "execution_count": 2,
   "id": "10d99e06",
   "metadata": {},
   "outputs": [],
   "source": [
    "class MyList:\n",
    "    def __init__(self):\n",
    "        self.data = []\n",
    "\n",
    "    def append(self, value):\n",
    "        self.data += [value]\n",
    "\n",
    "    def insert(self, index, value):\n",
    "        self.data = self.data[:index] + [value] + self.data[index:]\n",
    "\n",
    "    def remove(self, value):\n",
    "        for i in range(len(self.data)):\n",
    "            if self.data[i] == value:\n",
    "                self.data = self.data[:i] + self.data[i+1:]\n",
    "                break\n",
    "\n",
    "    def get(self, index):\n",
    "        return self.data[index]\n",
    "\n",
    "    def __str__(self):\n",
    "        return str(self.data) # For easy printing of the list"
   ]
  },
  {
   "cell_type": "markdown",
   "id": "f22acc62",
   "metadata": {},
   "source": [
    "## tuple – Immutable Sequence\n",
    "A tuple is like a list, but once you create it, you can’t change it. It’s like writing in pen instead of pencil."
   ]
  },
  {
   "cell_type": "code",
   "execution_count": 3,
   "id": "ac316d69",
   "metadata": {},
   "outputs": [
    {
     "name": "stdout",
     "output_type": "stream",
     "text": [
      "1\n"
     ]
    }
   ],
   "source": [
    "my_tuple = (1, 2, 3)\n",
    "print(my_tuple[0])  # You can read, but not change"
   ]
  },
  {
   "cell_type": "markdown",
   "id": "44bfc32f",
   "metadata": {},
   "source": [
    "## set – Unordered Unique Items\n",
    "A set is like a bag that only keeps one of each item. No duplicates allowed! "
   ]
  },
  {
   "cell_type": "code",
   "execution_count": 7,
   "id": "0bbef613",
   "metadata": {},
   "outputs": [
    {
     "name": "stdout",
     "output_type": "stream",
     "text": [
      "{2, 3, 4}\n",
      "True\n"
     ]
    }
   ],
   "source": [
    "my_set = {1, 2, 3}\n",
    "my_set.add(2)     # Won’t add again\n",
    "my_set.add(4)\n",
    "my_set.remove(1)  # Remove value 1\n",
    "print(my_set)     # Print the set\n",
    "print(3 in my_set)  # Check if 3 is in the set\n",
    "\n",
    "\n",
    "class MySet: # A simple implementation of a set\n",
    "    \"\"\"A simple set implementation that allows adding unique items.\"\"\"\n",
    "    def __init__(self):\n",
    "        self.data = []\n",
    "\n",
    "    def add(self, value):\n",
    "        if value not in self.data:\n",
    "            self.data.append(value)\n",
    "\n",
    "    def contains(self, value):\n",
    "        return value in self.data\n",
    "\n",
    "    def __str__(self):\n",
    "        return str(self.data)  # For easy printing of the set"
   ]
  },
  {
   "cell_type": "markdown",
   "id": "c6cfefd6",
   "metadata": {},
   "source": [
    "## dict – Key–Value Pairs\n",
    "A dictionary is like a mini-database. You look up values using keys (like names or IDs)."
   ]
  },
  {
   "cell_type": "code",
   "execution_count": 8,
   "id": "3a2c6c72",
   "metadata": {},
   "outputs": [
    {
     "name": "stdout",
     "output_type": "stream",
     "text": [
      "Alice\n",
      "15\n"
     ]
    }
   ],
   "source": [
    "my_dict = {'name': 'Alice', 'age': 15}\n",
    "print(my_dict['name'])       # Get value\n",
    "print(my_dict.get('age'))    # Get value with get method\n",
    "my_dict['age'] = 16          # Update value\n",
    "my_dict['grade'] = 'A+'      # Add new key-value"
   ]
  },
  {
   "cell_type": "code",
   "execution_count": 9,
   "id": "18e31461",
   "metadata": {},
   "outputs": [],
   "source": [
    "class MyDict: # A simple implementation of a dictionary\n",
    "    \"\"\"A simple dictionary implementation that allows setting and getting key-value pairs.\"\"\"\n",
    "    def __init__(self): # Initialize an empty dictionary\n",
    "        self.keys = [] # List to store keys\n",
    "        self.values = [] # List to store values\n",
    "\n",
    "    def set(self, key, value): # Set a key-value pair\n",
    "        if key in self.keys: # If the key already exists\n",
    "            index = self.keys.index(key) # Find the index of the key\n",
    "            self.values[index] = value # Update the value at that index\n",
    "        else:\n",
    "            self.keys.append(key) # If the key does not exist, add it\n",
    "            self.values.append(value) # Add the value at the end\n",
    "\n",
    "    def get(self, key): # Get the value for a given key\n",
    "        \"\"\"Get the value associated with the key.\"\"\"\n",
    "         # Check if the key exists in the keys list\n",
    "         # If it does, return the corresponding value\n",
    "         # If not, return None\n",
    "        if key in self.keys: \n",
    "            index = self.keys.index(key)\n",
    "            return self.values[index]\n",
    "        return None \n"
   ]
  },
  {
   "cell_type": "markdown",
   "id": "b6e4845c",
   "metadata": {},
   "source": [
    "## str – Text (Immutable)\n",
    "\n",
    "A string is just a **list of characters**. But you can’t change it once it’s made."
   ]
  },
  {
   "cell_type": "code",
   "execution_count": 10,
   "id": "f6cfe2ff",
   "metadata": {},
   "outputs": [
    {
     "name": "stdout",
     "output_type": "stream",
     "text": [
      "e\n",
      "ell\n",
      "hello world\n",
      "hellohello\n",
      "Hello\n",
      "2\n",
      "hexxo\n",
      "True\n",
      "True\n",
      "True\n",
      "False\n",
      "hello\n",
      "HELLO\n"
     ]
    }
   ],
   "source": [
    "my_str = \"hello\"\n",
    "print(my_str[1])       # 'e', remember indexing starts at 0\n",
    "print(my_str[1:4])     # 'ell', slicing from index 1 to 3\n",
    "print(my_str + \" world\")  # 'hello world'\n",
    "print(my_str * 2)      # 'hellohello', repeat the string\n",
    "print(\"H\" + my_str[1:])  # 'Hello', concatenate with a character\n",
    "print(my_str.find('l'))  # 2, find the first occurrence of 'l'\n",
    "print(my_str.replace('l', 'x'))  # 'hexxo', replace 'l' with 'x'\n",
    "print(my_str.startswith('he'))  # True, check if it starts with 'he'  \n",
    "print(my_str.endswith('lo'))  # True, check if it ends with 'lo'\n",
    "print(my_str.isalpha())  # True, check if all characters are alphabetic\n",
    "print(my_str.isdigit())  # False, check if all characters are digits\n",
    "print(my_str.lower())  # 'hello', convert to lowercase\n",
    "print(my_str.upper())  # 'HELLO' # 'Convert to uppercase\n"
   ]
  },
  {
   "cell_type": "code",
   "execution_count": 11,
   "id": "01110641",
   "metadata": {},
   "outputs": [
    {
     "name": "stdout",
     "output_type": "stream",
     "text": [
      "e\n",
      "HELLO\n",
      "hello\n",
      "2\n",
      "hexxo\n"
     ]
    }
   ],
   "source": [
    "class MyString:\n",
    "    def __init__(self, text):\n",
    "        self.text = text\n",
    "\n",
    "    def get(self, index):\n",
    "        return self.text[index]\n",
    "\n",
    "    def upper(self):\n",
    "        result = ''\n",
    "        for char in self.text:\n",
    "            if 'a' <= char <= 'z':\n",
    "                result += chr(ord(char) - 32)\n",
    "            else:\n",
    "                result += char\n",
    "        return result\n",
    "    \n",
    "    def lower(self):\n",
    "        result = ''\n",
    "        for char in self.text:\n",
    "            if 'A' <= char <= 'Z':\n",
    "                result += chr(ord(char) + 32)\n",
    "            else:\n",
    "                result += char\n",
    "        return result\n",
    "\n",
    "    def find(self, substring):\n",
    "        \"\"\"Find the first occurrence of a substring.\"\"\"\n",
    "        for i in range(len(self.text) - len(substring) + 1):\n",
    "            if self.text[i:i+len(substring)] == substring:\n",
    "                return i\n",
    "        return -1\n",
    "\n",
    "    def replace(self, old, new):\n",
    "        \"\"\"Replace all occurrences of old with new.\"\"\"\n",
    "        result = ''\n",
    "        i = 0\n",
    "        while i < len(self.text):\n",
    "            if self.text[i:i+len(old)] == old:\n",
    "                result += new\n",
    "                i += len(old)\n",
    "            else:\n",
    "                result += self.text[i]\n",
    "                i += 1\n",
    "        return result\n",
    "    \n",
    "    def __str__(self):\n",
    "        return self.text\n",
    "\n",
    "# Example usage of MyString\n",
    "my_string = MyString(\"hello\")\n",
    "print(my_string.get(1))  # 'e'\n",
    "print(my_string.upper())  # 'HELLO' \n",
    "print(my_string.lower())  # 'hello'\n",
    "print(my_string.find('l'))  # 2\n",
    "print(my_string.replace('l', 'x'))  # 'hexxo'"
   ]
  },
  {
   "cell_type": "markdown",
   "id": "460d30ef",
   "metadata": {},
   "source": [
    "## Linked List\n",
    "Each item (node) points to the next. Like a treasure map where each clue leads to the next. The memory locations are not right next to each other (non-contiguous) like an array or a list. "
   ]
  },
  {
   "cell_type": "code",
   "execution_count": 12,
   "id": "c37e1408",
   "metadata": {},
   "outputs": [],
   "source": [
    "class Node:\n",
    "    def __init__(self, value): # Initialize a node with a value\n",
    "        \"\"\"Initialize a node with a value and no next node.\"\"\"\n",
    "        self.value = value # Store the value of the node\n",
    "        self.next = None # Pointer to the next node, initially None\n",
    "\n",
    "class SinglyLinkedList:\n",
    "    def __init__(self): # Initialize an empty linked list\n",
    "        \"\"\"Initialize an empty linked list.\"\"\"\n",
    "        self.head = None\n",
    "\n",
    "    def append(self, value): # Add a new node with the given value to the end of the list\n",
    "        \"\"\"Add a new node with the given value to the end of the list.\"\"\"\n",
    "        new_node = Node(value) # Create a new node with the given value\n",
    "        if not self.head: # If the list is empty\n",
    "            self.head = new_node # Set the head to the new node\n",
    "            return\n",
    "        current = self.head # Start from the head of the list\n",
    "        # Traverse to the end of the list\n",
    "        while current.next:  # While there is a next node\n",
    "            current = current.next # Move to the next node\n",
    "        current.next = new_node # Set the next pointer of the last node to the new node\n",
    "\n",
    "    def display(self): # Display the values in the linked list\n",
    "        \"\"\"Display the values in the linked list.\"\"\""
   ]
  },
  {
   "cell_type": "markdown",
   "id": "3892d86f",
   "metadata": {},
   "source": [
    "## Stack (LIFO – Last In, First Out)\n",
    "Like a stack of plates. You add to the top and remove from the top. Similar to the stack in memory and other programming languages like C and C++"
   ]
  },
  {
   "cell_type": "code",
   "execution_count": 15,
   "id": "1f427679",
   "metadata": {},
   "outputs": [
    {
     "name": "stdout",
     "output_type": "stream",
     "text": [
      "20\n"
     ]
    }
   ],
   "source": [
    "# Using the stack data structure (based on Python's list)\n",
    "stack = [] # A simple stack implementation using a list\n",
    "stack.append(10)  # Push\n",
    "stack.append(20)\n",
    "print(stack.pop())  # Pop -> 20"
   ]
  },
  {
   "cell_type": "code",
   "execution_count": 16,
   "id": "5818bc56",
   "metadata": {},
   "outputs": [],
   "source": [
    "class Stack:\n",
    "    def __init__(self):\n",
    "        self.items = []\n",
    "\n",
    "    def push(self, value):\n",
    "        self.items.append(value)\n",
    "\n",
    "    def pop(self):\n",
    "        return self.items.pop()\n",
    "\n",
    "    def peek(self):\n",
    "        \"\"\"Return the top item without removing it.\"\"\"\n",
    "        if not self.items:\n",
    "            return None\n",
    "        return self.items[-1]\n",
    "    \n",
    "    def is_empty(self):\n",
    "        \"\"\"Check if the stack is empty.\"\"\"\n",
    "        return len(self.items) == 0\n",
    "    \n",
    "    def display(self):\n",
    "        \"\"\"Display the items in the stack.\"\"\"\n",
    "        return self.items"
   ]
  },
  {
   "cell_type": "markdown",
   "id": "79cac1fe",
   "metadata": {},
   "source": [
    "## Queue First In, First Out\n",
    "Like a line at a shop. First person in is the first served."
   ]
  },
  {
   "cell_type": "code",
   "execution_count": 17,
   "id": "55fa933a",
   "metadata": {},
   "outputs": [
    {
     "name": "stdout",
     "output_type": "stream",
     "text": [
      "1\n"
     ]
    }
   ],
   "source": [
    "from collections import deque\n",
    "queue = deque()\n",
    "queue.append(1)     # Enqueue\n",
    "queue.append(2)\n",
    "print(queue.popleft())  # Dequeue → 1\n"
   ]
  },
  {
   "cell_type": "code",
   "execution_count": 18,
   "id": "1fd16107",
   "metadata": {},
   "outputs": [],
   "source": [
    "class Queue:\n",
    "    def __init__(self):\n",
    "        self.items = []\n",
    "\n",
    "    def enqueue(self, value):\n",
    "        self.items.append(value)\n",
    "\n",
    "    def dequeue(self):\n",
    "        return self.items.pop(0)\n",
    "\n",
    "    def is_empty(self):\n",
    "        \"\"\"Check if the queue is empty.\"\"\"\n",
    "        return len(self.items) == 0 \n",
    "    \n",
    "    def peek(self):\n",
    "        \"\"\"Return the front item without removing it.\"\"\"\n",
    "        if not self.items:\n",
    "            return None\n",
    "        return self.items[0]\n",
    "\n",
    "    def display(self):\n",
    "        \"\"\"Display the items in the queue.\"\"\"\n",
    "        return self.items"
   ]
  },
  {
   "cell_type": "markdown",
   "id": "f7c1cc12",
   "metadata": {},
   "source": [
    "## Priority Queue\n",
    "Each item has a priority. Higher priority items come out first. We are basically giving importance to certain items"
   ]
  },
  {
   "cell_type": "markdown",
   "id": "c4061ce0",
   "metadata": {},
   "source": [
    "## Tree (Binary Tree)\n",
    "Each node has up to 2 children: left and right. This allows us to see how data can be ordered."
   ]
  },
  {
   "cell_type": "code",
   "execution_count": 19,
   "id": "d7f7d6b3",
   "metadata": {},
   "outputs": [],
   "source": [
    "class TreeNode:\n",
    "    def __init__(self, value):\n",
    "        self.value = value\n",
    "        self.left = None\n",
    "        self.right = None\n",
    "\n",
    "class BinaryTree:\n",
    "    def __init__(self):\n",
    "        self.root = None\n",
    "\n",
    "    def insert(self, value):\n",
    "        \"\"\"Insert a new value into the binary tree.\"\"\"\n",
    "        if not self.root:\n",
    "            self.root = TreeNode(value)\n",
    "        else:\n",
    "            self._insert_recursive(self.root, value)\n",
    "\n",
    "    def _insert_recursive(self, node, value):\n",
    "        \"\"\"Helper method to insert a value recursively.\"\"\"\n",
    "        if value < node.value:\n",
    "            if node.left is None:\n",
    "                node.left = TreeNode(value)\n",
    "            else:\n",
    "                self._insert_recursive(node.left, value)\n",
    "        else:\n",
    "            if node.right is None:\n",
    "                node.right = TreeNode(value)\n",
    "            else:\n",
    "                self._insert_recursive(node.right, value)\n",
    "        \"\"\"Display the values in the linked list.\"\"\"\n",
    "    def inorder_traversal(self, node):\n",
    "        \"\"\"Perform an inorder traversal of the tree.\"\"\"\n",
    "        if node:\n",
    "            self.inorder_traversal(node.left)\n",
    "            print(node.value, end=' ')\n",
    "            self.inorder_traversal(node.right)\n",
    "    \n",
    "    def display(self):\n",
    "        \"\"\"Display the values in the binary tree.\"\"\"\n",
    "        self.inorder_traversal(self.root)\n",
    "        print()\n",
    "    \n",
    "    def search(self, value):\n",
    "        \"\"\"Search for a value in the binary tree.\"\"\"\n",
    "        return self._search_recursive(self.root, value)\n",
    "    def _search_recursive(self, node, value):\n",
    "        \"\"\"Helper method to search for a value recursively.\"\"\"\n",
    "        if node is None:\n",
    "            return False\n",
    "        if node.value == value:\n",
    "            return True\n",
    "        elif value < node.value:\n",
    "            return self._search_recursive(node.left, value)\n",
    "        else:\n",
    "            return self._search_recursive(node.right, value)\n",
    "    \n",
    "    def delete(self, value):\n",
    "        \"\"\"Delete a value from the binary tree.\"\"\"\n",
    "        self.root = self._delete_recursive(self.root, value)\n",
    "    \n",
    "    def _delete_recursive(self, node, value):\n",
    "        \"\"\"Helper method to delete a value recursively.\"\"\"\n",
    "        if node is None:\n",
    "            return node\n",
    "        if value < node.value:\n",
    "            node.left = self._delete_recursive(node.left, value)\n",
    "        elif value > node.value:\n",
    "            node.right = self._delete_recursive(node.right, value)\n",
    "        else:\n",
    "            # Node with one child or no child\n",
    "            if node.left is None:\n",
    "                return node.right\n",
    "            elif node.right is None:\n",
    "                return node.left\n",
    "            # Node with two children: get the inorder successor (smallest in the right subtree)\n",
    "            min_larger_node = self._get_min(node.right)\n",
    "            node.value = min_larger_node.value\n",
    "            node.right = self._delete_recursive(node.right, min_larger_node.value)\n",
    "        return node"
   ]
  },
  {
   "cell_type": "markdown",
   "id": "54b6ccb9",
   "metadata": {},
   "source": [
    "# Graph Data Structure in Python (From Scratch)\n",
    "\n",
    "A graph is a collection of nodes (also called vertices) connected by edges. You can use it to model things like:\n",
    "\n",
    "- Cities connected by roads\n",
    "- Friends on a social network\n",
    "- Web pages linked by hyperlinks\n",
    "\n",
    "---\n",
    "\n",
    "##  1. Graph Representation: Adjacency List\n",
    "\n",
    "We'll use a dictionary where each key is a node, and the value is a list of its neighbors.\n"
   ]
  },
  {
   "cell_type": "code",
   "execution_count": 20,
   "id": "388aa915",
   "metadata": {},
   "outputs": [
    {
     "name": "stdout",
     "output_type": "stream",
     "text": [
      "A → ['B', 'C']\n",
      "B → ['A', 'C']\n",
      "C → ['A', 'B']\n",
      "True\n",
      "False\n",
      "['A', 'C']\n",
      "A → ['C']\n",
      "B → ['C']\n",
      "C → ['A', 'B']\n",
      "A → []\n",
      "B → []\n"
     ]
    }
   ],
   "source": [
    "\n",
    "class Graph:\n",
    "    def __init__(self):\n",
    "        self.adj_list = {}\n",
    "\n",
    "    def add_node(self, node):\n",
    "        if node not in self.adj_list:\n",
    "            self.adj_list[node] = []\n",
    "\n",
    "    def add_edge(self, u, v):\n",
    "        # Undirected graph: add both directions\n",
    "        if u not in self.adj_list:\n",
    "            self.add_node(u)\n",
    "        if v not in self.adj_list:\n",
    "            self.add_node(v)\n",
    "        self.adj_list[u].append(v)\n",
    "        self.adj_list[v].append(u)\n",
    "\n",
    "    def remove_edge(self, u, v):\n",
    "        if u in self.adj_list and v in self.adj_list[u]:\n",
    "            self.adj_list[u].remove(v)\n",
    "        if v in self.adj_list and u in self.adj_list[v]:\n",
    "            self.adj_list[v].remove(u)\n",
    "\n",
    "    def remove_node(self, node):\n",
    "        if node in self.adj_list:\n",
    "            for neighbor in self.adj_list[node]:\n",
    "                self.adj_list[neighbor].remove(node)\n",
    "            del self.adj_list[node]\n",
    "\n",
    "    def has_edge(self, u, v):\n",
    "        return u in self.adj_list and v in self.adj_list[u]\n",
    "\n",
    "    def get_neighbors(self, node):\n",
    "        return self.adj_list.get(node, [])\n",
    "\n",
    "    def print_graph(self):\n",
    "        for node in self.adj_list:\n",
    "            print(f\"{node} → {self.adj_list[node]}\")\n",
    "\n",
    "g = Graph()\n",
    "\n",
    "# Add nodes\n",
    "g.add_node(\"A\")\n",
    "g.add_node(\"B\")\n",
    "g.add_node(\"C\")\n",
    "\n",
    "# Add edges\n",
    "g.add_edge(\"A\", \"B\")\n",
    "g.add_edge(\"A\", \"C\")\n",
    "g.add_edge(\"B\", \"C\")\n",
    "\n",
    "# Print graph\n",
    "g.print_graph()\n",
    "# Output:\n",
    "# A → ['B', 'C']\n",
    "# B → ['A', 'C']\n",
    "# C → ['A', 'B']\n",
    "\n",
    "# Check edge\n",
    "print(g.has_edge(\"A\", \"B\"))  # True\n",
    "print(g.has_edge(\"A\", \"D\"))  # False\n",
    "\n",
    "# Get neighbors\n",
    "print(g.get_neighbors(\"B\"))  # ['A', 'C']\n",
    "\n",
    "# Remove edge\n",
    "g.remove_edge(\"A\", \"B\")\n",
    "g.print_graph()\n",
    "\n",
    "# Remove node\n",
    "g.remove_node(\"C\")\n",
    "g.print_graph()"
   ]
  },
  {
   "cell_type": "markdown",
   "id": "dab814af",
   "metadata": {},
   "source": [
    "## DFS\n",
    "\n",
    "This is going down as far as possible for a branch in the binary tree"
   ]
  },
  {
   "cell_type": "code",
   "execution_count": 21,
   "id": "799ad337",
   "metadata": {},
   "outputs": [],
   "source": [
    "def dfs(graph, start, visited=None):\n",
    "    if visited is None:\n",
    "        visited = set()\n",
    "    visited.add(start)\n",
    "    print(start)\n",
    "    for neighbor in graph.get_neighbors(start):\n",
    "        if neighbor not in visited:\n",
    "            dfs(graph, neighbor, visited)\n"
   ]
  },
  {
   "cell_type": "markdown",
   "id": "d4bcc3f7",
   "metadata": {},
   "source": [
    "## BFS\n",
    "\n",
    "This is going across the width of a graph and then iterating downwards"
   ]
  },
  {
   "cell_type": "code",
   "execution_count": null,
   "id": "7be2b77d",
   "metadata": {},
   "outputs": [],
   "source": [
    "from collections import deque\n",
    "\n",
    "def bfs(graph, start):\n",
    "    visited = set()\n",
    "    queue = deque([start])\n",
    "    visited.add(start)\n",
    "\n",
    "    while queue:\n",
    "        node = queue.popleft()\n",
    "        print(node)\n",
    "        for neighbor in graph.get_neighbors(node):\n",
    "            if neighbor not in visited:\n",
    "                visited.add(neighbor)\n",
    "                queue.append(neighbor)\n"
   ]
  },
  {
   "cell_type": "markdown",
   "id": "cfa9bc5d",
   "metadata": {},
   "source": [
    "## Heap"
   ]
  },
  {
   "cell_type": "code",
   "execution_count": 23,
   "id": "11df1d64",
   "metadata": {},
   "outputs": [
    {
     "name": "stdout",
     "output_type": "stream",
     "text": [
      "(1, 'do homework')\n"
     ]
    }
   ],
   "source": [
    "import heapq\n",
    "pq = []\n",
    "heapq.heappush(pq, (2, 'clean room'))\n",
    "heapq.heappush(pq, (3, 'do laundry'))\n",
    "heapq.heappush(pq, (1, 'do homework'))\n",
    "print(heapq.heappop(pq))  # (1, 'do homework')"
   ]
  },
  {
   "cell_type": "markdown",
   "id": "b15ee68c",
   "metadata": {},
   "source": [
    "## 1. Linear Search\n",
    "\n",
    "### What is it?\n",
    "Imagine you're looking for your friend's name in a list of names. You start from the top and check each one until you find it.\n",
    "\n",
    "### How it works:\n",
    "- Start at the first item.\n",
    "- Check if it’s what you’re looking for.\n",
    "- If not, move to the next.\n",
    "- Repeat until you find it or reach the end.\n",
    "\n",
    "### Time Complexity:\n",
    "- Worst case: You check every item → O(n)\n",
    "\n",
    "### When to use:\n",
    "- When the list is small or not sorted."
   ]
  },
  {
   "cell_type": "code",
   "execution_count": 24,
   "id": "3a5bfd96",
   "metadata": {},
   "outputs": [
    {
     "name": "stdout",
     "output_type": "stream",
     "text": [
      "2\n"
     ]
    }
   ],
   "source": [
    "arr = [10, 20, 30, 40] # Sorted array for binary search\n",
    "# Binary search to find the index of target\n",
    "target = 30 # Element to search for\n",
    "# Using binary search to find the index of target in arr\n",
    "if target in arr: \n",
    "    print(arr.index(target))\n",
    "else:\n",
    "    print(-1)"
   ]
  },
  {
   "cell_type": "markdown",
   "id": "63a67390",
   "metadata": {},
   "source": [
    "## 2. Binary Search\n",
    "\n",
    "### What is it?\n",
    "Imagine a dictionary. You don’t flip through every page—you jump to the middle, then decide to go left or right. That’s binary search!\n",
    "\n",
    "### How it works:\n",
    "\n",
    "The list must be sorted!\n",
    "\n",
    "- Look at the middle item.\n",
    "- If it’s the target, you’re done.\n",
    "- If the target is smaller, search the left half.\n",
    "- If it’s bigger, search the right half.\n",
    "- Repeat until found or list is empty.\n",
    "\n",
    "### Time Complexity:\n",
    "Much faster than linear search → O(log n)\n",
    "\n",
    "### When to use:\n",
    "When the list is sorted."
   ]
  },
  {
   "cell_type": "code",
   "execution_count": 25,
   "id": "6990a299",
   "metadata": {},
   "outputs": [],
   "source": [
    "def binary_search(arr, target):\n",
    "    low = 0\n",
    "    high = len(arr) - 1\n",
    "    while low <= high:\n",
    "        mid = (low + high) // 2 # Calculate the middle index\n",
    "        # Check if the target is at mid\n",
    "        if arr[mid] == target:  \n",
    "            return mid\n",
    "        elif arr[mid] < target:\n",
    "            low = mid + 1\n",
    "        else:\n",
    "            high = mid - 1\n",
    "    return -1"
   ]
  },
  {
   "cell_type": "code",
   "execution_count": 26,
   "id": "a4efb5b7",
   "metadata": {},
   "outputs": [
    {
     "name": "stdout",
     "output_type": "stream",
     "text": [
      "2\n"
     ]
    }
   ],
   "source": [
    "# Using the binary search function to find the index of target in arr.\n",
    "# bisect module can also be used for binary search. (Less code, but less control).\n",
    "\n",
    "import bisect\n",
    "\n",
    "arr = [10, 20, 30, 40]\n",
    "target = 30\n",
    "index = bisect.bisect_left(arr, target)\n",
    "if index < len(arr) and arr[index] == target:\n",
    "    print(index)\n",
    "else:\n",
    "    print(-1)"
   ]
  },
  {
   "cell_type": "markdown",
   "id": "fa5a4da1",
   "metadata": {},
   "source": [
    "## 1. Bubble Sort\n",
    "\n",
    "### What is it?\n",
    "Imagine bubbles rising in water. The biggest bubble (number) \"floats\" to the top (end of the list) each round.\n",
    "\n",
    "### How it works:\n",
    "Compare each pair of neighbors. If they’re in the wrong order, swap them. Repeat until no more swaps are needed.\n",
    "\n",
    "### Time Complexity:\n",
    "Slow for big lists → O(n²)\n",
    "\n",
    "### When to use:\n",
    "For learning. Not used in real apps."
   ]
  },
  {
   "cell_type": "code",
   "execution_count": 27,
   "id": "e51a7bcc",
   "metadata": {},
   "outputs": [],
   "source": [
    "def bubble_sort(arr):\n",
    "    n = len(arr)\n",
    "    for i in range(n):\n",
    "        for j in range(n - 1 - i):\n",
    "            if arr[j] > arr[j + 1]:\n",
    "                arr[j], arr[j + 1] = arr[j + 1], arr[j]"
   ]
  },
  {
   "cell_type": "markdown",
   "id": "96572125",
   "metadata": {},
   "source": [
    "## 2. Selection Sort\n",
    "\n",
    "### What is it?\n",
    "Imagine picking the smallest card from a deck and placing it in order.\n",
    "\n",
    "### How it works:\n",
    "- Find the smallest item.\n",
    "- Swap it with the first item.\n",
    "- Repeat for the rest of the list.\n",
    "\n",
    "### Time Complexity:\n",
    "Also slow → O(n²)\n",
    "\n",
    "### When to use:\n",
    "Simple to understand, but not efficient."
   ]
  },
  {
   "cell_type": "code",
   "execution_count": 28,
   "id": "3b4d6e1a",
   "metadata": {},
   "outputs": [],
   "source": [
    "def selection_sort(arr):\n",
    "    n = len(arr)\n",
    "    for i in range(n):\n",
    "        min_idx = i\n",
    "        for j in range(i + 1, n):\n",
    "            if arr[j] < arr[min_idx]:\n",
    "                min_idx = j\n",
    "        arr[i], arr[min_idx] = arr[min_idx], arr[i]"
   ]
  },
  {
   "cell_type": "markdown",
   "id": "aec35705",
   "metadata": {},
   "source": [
    "## 3. Insertion Sort\n",
    "\n",
    "### What is it?\n",
    "Like sorting playing cards in your hand.\n",
    "\n",
    "### How it works:\n",
    "- Start with the second item.\n",
    "- Compare it with the ones before it.\n",
    "- Insert it in the right place.\n",
    "- Repeat for all items.\n",
    "\n",
    "### Time Complexity:\n",
    "Fast for nearly sorted lists → Best case: O(n)\n",
    "Worst case: O(n²)\n",
    "\n",
    "### When to use:\n",
    "When the list is almost sorted."
   ]
  },
  {
   "cell_type": "code",
   "execution_count": 29,
   "id": "63ce88a1",
   "metadata": {},
   "outputs": [],
   "source": [
    "def insertion_sort(arr):\n",
    "    for i in range(1, len(arr)):\n",
    "        key = arr[i]\n",
    "        j = i - 1\n",
    "        while j >= 0 and arr[j] > key:\n",
    "            arr[j + 1] = arr[j]\n",
    "            j -= 1\n",
    "        arr[j + 1] = key\n"
   ]
  },
  {
   "cell_type": "markdown",
   "id": "b17d0479",
   "metadata": {},
   "source": [
    "## 4. Merge Sort\n",
    "\n",
    "### What is it?\n",
    "Divide and conquer! Like cutting a pizza into slices, sorting each, then putting them back together.\n",
    "\n",
    "### How it works:\n",
    "- Split the list in half.\n",
    "- Sort each half.\n",
    "- Merge the sorted halves.\n",
    "\n",
    "### Time Complexity:\n",
    "Fast and reliable → O(n log n)\n",
    "\n",
    "### When to use:\n",
    "When you need guaranteed speed."
   ]
  },
  {
   "cell_type": "code",
   "execution_count": 30,
   "id": "3a0573bc",
   "metadata": {},
   "outputs": [],
   "source": [
    "def merge_sort(arr):\n",
    "    if len(arr) <= 1:\n",
    "        return arr\n",
    "    mid = len(arr) // 2\n",
    "    left = merge_sort(arr[:mid])\n",
    "    right = merge_sort(arr[mid:])\n",
    "    return merge(left, right)\n",
    "\n",
    "def merge(left, right):\n",
    "    result = []\n",
    "    i = j = 0\n",
    "    while i < len(left) and j < len(right):\n",
    "        if left[i] < right[j]:\n",
    "            result.append(left[i])\n",
    "            i += 1\n",
    "        else:\n",
    "            result.append(right[j])\n",
    "            j += 1\n",
    "    result.extend(left[i:])\n",
    "    result.extend(right[j:])\n",
    "    return result"
   ]
  },
  {
   "cell_type": "markdown",
   "id": "27f43b6a",
   "metadata": {},
   "source": [
    "## 5. Quick Sort\n",
    "\n",
    "### What is it?\n",
    "Pick a number (pivot), put smaller numbers on one side, bigger on the other, then sort each side.\n",
    "\n",
    "### How it works:\n",
    "- Choose a pivot.\n",
    "- Split the list into smaller and bigger parts.\n",
    "- Sort each part using quick sort.\n",
    "\n",
    "### Time Complexity:\n",
    "Fast on average → O(n log n)\n",
    "Worst case (rare): O(n²)\n",
    "\n",
    "### When to use:\n",
    "When you want fast sorting and don’t need it to be stable."
   ]
  },
  {
   "cell_type": "code",
   "execution_count": 31,
   "id": "3f21766e",
   "metadata": {},
   "outputs": [],
   "source": [
    "def quick_sort(arr):\n",
    "    if len(arr) <= 1:\n",
    "        return arr\n",
    "    pivot = arr[0]\n",
    "    less = [x for x in arr[1:] if x <= pivot]\n",
    "    greater = [x for x in arr[1:] if x > pivot]\n",
    "    return quick_sort(less) + [pivot] + quick_sort(greater)"
   ]
  },
  {
   "cell_type": "markdown",
   "id": "2d6b2a03",
   "metadata": {},
   "source": [
    "## 6. Heap Sort\n",
    "\n",
    "### What is it?\n",
    "Uses a special tree called a heap to always get the smallest item first.\n",
    "\n",
    "### How it works:\n",
    "- Turn the list into a heap.\n",
    "- Repeatedly remove the smallest item and add it to the result.\n",
    "\n",
    "### Time Complexity:\n",
    "Always O(n log n)\n",
    "\n",
    "### When to use:\n",
    "When you need guaranteed performance and don’t care about order stability."
   ]
  },
  {
   "cell_type": "code",
   "execution_count": 32,
   "id": "23faebf3",
   "metadata": {},
   "outputs": [],
   "source": [
    "import heapq\n",
    "\n",
    "def heap_sort(arr):\n",
    "    heapq.heapify(arr)\n",
    "    return [heapq.heappop(arr) for _ in range(len(arr))]\n",
    "\n",
    "def counting_sort(arr, max_val):\n",
    "    count = [0] * (max_val + 1)\n",
    "    for num in arr:\n",
    "        count[num] += 1\n",
    "    sorted_arr = []\n",
    "    for i in range(len(count)):\n",
    "        sorted_arr.extend([i] * count[i])\n",
    "    return sorted_arr"
   ]
  }
 ],
 "metadata": {
  "kernelspec": {
   "display_name": "base",
   "language": "python",
   "name": "python3"
  },
  "language_info": {
   "codemirror_mode": {
    "name": "ipython",
    "version": 3
   },
   "file_extension": ".py",
   "mimetype": "text/x-python",
   "name": "python",
   "nbconvert_exporter": "python",
   "pygments_lexer": "ipython3",
   "version": "3.12.3"
  }
 },
 "nbformat": 4,
 "nbformat_minor": 5
}
