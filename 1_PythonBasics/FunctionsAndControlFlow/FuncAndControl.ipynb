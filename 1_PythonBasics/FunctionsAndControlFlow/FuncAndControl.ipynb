{
 "cells": [
  {
   "cell_type": "markdown",
   "id": "f3bc553a",
   "metadata": {},
   "source": [
    "1. Add for loops\n",
    "2. while loops\n",
    "3. if statements\n",
    "4. else statements (elif)\n",
    "5. switch case statements"
   ]
  }
 ],
 "metadata": {
  "language_info": {
   "name": "python"
  }
 },
 "nbformat": 4,
 "nbformat_minor": 5
}
