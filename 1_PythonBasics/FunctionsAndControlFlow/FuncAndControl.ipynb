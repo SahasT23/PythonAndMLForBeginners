{
 "cells": [
  {
   "cell_type": "markdown",
   "id": "a0952941",
   "metadata": {},
   "source": [
    "## Conditional Statements\n",
    "\n",
    "```if``` checks the first condition.\n",
    "\n",
    "```elif``` gives more options if the first isn’t true.\n",
    "\n",
    "```else``` is the fallback when none match.\n",
    "\n",
    "Python uses indentation to define blocks—no {} needed, like in C. Also don't need semi colons."
   ]
  },
  {
   "cell_type": "code",
   "execution_count": null,
   "id": "27632e39",
   "metadata": {},
   "outputs": [],
   "source": [
    "age = 20\n",
    "\n",
    "if age >= 18:\n",
    "    print(\"You're an adult.\")\n",
    "elif age > 12:\n",
    "    print(\"You're a teenager.\")\n",
    "else:\n",
    "    print(\"You're a child.\")"
   ]
  },
  {
   "cell_type": "markdown",
   "id": "1e1e6129",
   "metadata": {},
   "source": [
    "## For Loops\n",
    "\n",
    "Prints 1, 2, 4, 5 (skips 3, stops at 6).\n",
    "\n",
    "continue skips to next loop cycle.\n",
    "\n",
    "break halts the loop entirely."
   ]
  },
  {
   "cell_type": "code",
   "execution_count": null,
   "id": "a1ef98dd",
   "metadata": {},
   "outputs": [],
   "source": [
    "# Print numbers 1 to 5, skip 3, stop at 5\n",
    "for i in range(1, 10):\n",
    "    if i == 3:\n",
    "        continue  # skip this iteration\n",
    "    if i == 6:\n",
    "        break     # exit the loop\n",
    "    print(i)"
   ]
  },
  {
   "cell_type": "markdown",
   "id": "13d60fff",
   "metadata": {},
   "source": [
    "## While Loops\n",
    "\n",
    "The ```while``` loop checks the condition ```count < 5```.\n",
    "\n",
    "As long as it’s ```True```, it keeps running the block.\n",
    "\n",
    "```count += 1``` ensures the loop eventually stops—this is crucial to avoid infinite loops."
   ]
  },
  {
   "cell_type": "code",
   "execution_count": null,
   "id": "7bed4d3f",
   "metadata": {},
   "outputs": [],
   "source": [
    "count = 0\n",
    "\n",
    "while count < 5:\n",
    "    print(\"Count is:\", count)\n",
    "    count += 1"
   ]
  },
  {
   "cell_type": "markdown",
   "id": "553715f4",
   "metadata": {},
   "source": [
    "## While True Statements\n",
    "\n",
    "```while``` True creates an infinite loop—great for programs that wait for user input or run continuously until a condition is met.\n",
    "\n",
    "break is what escapes the infinite loop when a certain condition (like typing \"exit\") is satisfied."
   ]
  },
  {
   "cell_type": "code",
   "execution_count": null,
   "id": "c327c5fc",
   "metadata": {},
   "outputs": [],
   "source": [
    "while True:\n",
    "    name = input(\"Enter your name (or type 'exit' to quit): \")\n",
    "    if name == \"exit\":\n",
    "        break\n",
    "    print(\"Hello,\", name)"
   ]
  },
  {
   "cell_type": "markdown",
   "id": "8778fc0d",
   "metadata": {},
   "source": [
    "## Functions Explained.\n",
    "\n",
    "function is like a mini program inside your code that performs a specific task. Once defined, you can \"call\" or reuse it as often as you like.\n",
    "\n",
    "Think of it as a recipe:\n",
    "\n",
    "* It has a name (what to cook),\n",
    "\n",
    "* It can take ingredients (parameters),\n",
    "\n",
    "* It does something with them (the logic),\n",
    "\n",
    "* And it might give you results (return values)."
   ]
  },
  {
   "cell_type": "code",
   "execution_count": null,
   "id": "cdd2a12c",
   "metadata": {},
   "outputs": [],
   "source": [
    "def add(a, b):        # ① Function definition\n",
    "    sum = a + b       # ② Logic\n",
    "    return sum        # ③ Return value\n",
    "\n",
    "result = add(3, 4)    # ④ Function call\n",
    "print(result)         # Output: 7"
   ]
  },
  {
   "cell_type": "markdown",
   "id": "521acfd0",
   "metadata": {},
   "source": [
    "|Term     |Meaning                       |\n",
    "|---------|------------------------------|\n",
    "|def      |\tKeyword to define a function |\n",
    "|add      |\tName of the function |\n",
    "|a, b     |\tParameters: placeholders for input |\n",
    "|return sum\t|Output: sends result back to the caller |\n",
    "|add(3, 4)  |\tA function call with arguments |\n",
    "|result     |\tStores what the function returns |"
   ]
  },
  {
   "cell_type": "markdown",
   "id": "d270d104",
   "metadata": {},
   "source": [
    "```print()``` displays something.\n",
    "\n",
    "```return``` hands off the value to the calling code.\n",
    "\n",
    "Returning lets you reuse values later, which is more powerful and flexible."
   ]
  },
  {
   "cell_type": "code",
   "execution_count": null,
   "id": "a1d36faf",
   "metadata": {},
   "outputs": [],
   "source": [
    "def say_hi(name):\n",
    "    print(\"Hi\", name)\n",
    "\n",
    "def get_hi(name):\n",
    "    return \"Hi \" + name\n",
    "\n",
    "say_hi(\"Sahas\")              # Prints directly\n",
    "message = get_hi(\"Sahas\")    # Stores the value\n",
    "print(message)"
   ]
  },
  {
   "cell_type": "markdown",
   "id": "1e86793c",
   "metadata": {},
   "source": [
    "Multiple outputs are returned as a tuple, then unpacked neatly."
   ]
  },
  {
   "cell_type": "code",
   "execution_count": null,
   "id": "85320bd8",
   "metadata": {},
   "outputs": [],
   "source": [
    "def divide_remainder(a, b):\n",
    "    return a // b, a % b\n",
    "\n",
    "quotient, remainder = divide_remainder(10, 3)\n",
    "print(\"Quotient:\", quotient)\n",
    "print(\"Remainder:\", remainder)"
   ]
  }
 ],
 "metadata": {
  "kernelspec": {
   "display_name": "base",
   "language": "python",
   "name": "python3"
  },
  "language_info": {
   "name": "python",
   "version": "3.12.3"
  }
 },
 "nbformat": 4,
 "nbformat_minor": 5
}
