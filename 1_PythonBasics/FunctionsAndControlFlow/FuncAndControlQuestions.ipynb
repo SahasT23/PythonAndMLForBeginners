{
 "cells": [
  {
   "cell_type": "markdown",
   "id": "29e2d8fd",
   "metadata": {},
   "source": [
    "# Python Open-Ended Coding Questions for Beginners (Control Flow, Functions, and Scope)\n",
    "\n",
    "## If, Else, Elif Statements\n",
    "- **Write a program that uses an `if` statement to check if a number entered by the user is positive, and prints a message if it is.**\n",
    "  - Use `input()` to get a number from the user, convert it to an `int`, and check if it’s greater than 0 with an `if` statement. For example, print \"The number is positive!\" if true. Include comments explaining how `if` works to test a condition and only run code when the condition is true.\n",
    "\n",
    "- **Create a script that uses `if` and `else` to tell the user if their entered number is even or odd.**\n",
    "  - Get a number with `input()`, convert it to an `int`, and use the modulo operator (`%`) to check if it’s divisible by 2. Print \"Even\" in the `if` block and \"Odd\" in the `else` block. Add comments explaining that `else` runs when the `if` condition is false.\n",
    "\n",
    "- **Write a program that uses `if`, `elif`, and `else` to classify a user’s age into categories like \"child\" (0-12), \"teen\" (13-19), or \"adult\" (20+).**\n",
    "  - Use `input()` to get the user’s age, convert it to an `int`, and use `if` for ages 0-12, `elif` for 13-19, and `else` for 20 or more. Print the category. Include comments explaining how `elif` lets you check additional conditions if the previous ones are false.\n",
    "\n",
    "## While Loops\n",
    "- **Create a program that uses a `while` loop to print numbers from 1 to 5, one per line.**\n",
    "  - Set a variable like `count = 1`, and use a `while count <= 5:` loop to print `count` and increase it by 1 each time. Include comments explaining how a `while` loop keeps running as long as its condition is true.\n",
    "\n",
    "- **Write a script that uses a `while` loop to keep asking the user for a password until they enter \"secret\".**\n",
    "  - Use `input()` inside a `while` loop to get a password, and only exit the loop when the input equals \"secret\". Print \"Access granted!\" when correct. Add comments explaining how the loop repeats until the condition changes.\n",
    "\n",
    "- **Develop a program that uses a `while` loop to sum numbers entered by the user until they enter 0.**\n",
    "  - Initialize a `total = 0`, and use a `while` loop to get numbers with `input()`, convert them to `int`, and add to `total`. Stop when the user enters 0 and print the sum. Include comments explaining how the loop stops when a specific condition is met.\n",
    "\n",
    "## Do-While Loops (Emulated in Python)\n",
    "- **Write a program that emulates a do-while loop to print a message at least once, then asks the user if they want to see it again.**\n",
    "  - Use a `while True` loop with a `break` statement. Print a message, then use `input()` to ask if the user wants to continue (e.g., \"y\" for yes). Break if they don’t. Include comments explaining that Python doesn’t have a true do-while loop, but this mimics it by running code once before checking.\n",
    "\n",
    "- **Create a script that emulates a do-while loop to get a positive number from the user, ensuring at least one input attempt.**\n",
    "  - Inside a `while True` loop, use `input()` to get a number, convert to `int`, and check if it’s positive. If it is, break and print it; otherwise, ask again. Add comments explaining how this ensures the code runs at least once, like a do-while loop.\n",
    "\n",
    "## Switch-Case Statements (Using `match` in Python)\n",
    "- **Write a program that uses the `match` statement to tell the user the name of a day based on a number (1-7).**\n",
    "  - Get a number with `input()`, convert to `int`, and use a `match` statement with cases for 1 (\"Monday\"), 2 (\"Tuesday\"), etc., and a default case (`case _`) for invalid numbers. Include comments explaining that `match` is Python’s version of switch-case, introduced in Python 3.10.\n",
    "\n",
    "- **Create a script that uses the `match` statement to process a user’s choice from a menu (e.g., \"add\", \"subtract\", \"quit\").**\n",
    "  - Use `input()` to get a string like \"add\" or \"quit\". Use a `match` statement to print a response for each option, like \"Adding numbers!\" for \"add\", and handle unknown inputs with `case _`. Add comments explaining how `match` simplifies handling multiple options.\n",
    "\n",
    "## Functions\n",
    "- **Write a program that defines a function to greet a user by name, and calls it with different names.**\n",
    "  - Define a function like `def greet(name):` that prints \"Hello, [name]!\". Call it with inputs like `greet(\"Alice\")` and `greet(\"Bob\")`. Include comments explaining that functions let you reuse code and take inputs called parameters.\n",
    "\n",
    "- **Create a script with a function that takes two numbers and returns their sum, then prints the result.**\n",
    "  - Define `def add(a, b): return a + b`. Call it with `result = add(3, 4)` and print `result`. Add comments explaining how `return` sends a value back and how functions can take multiple parameters.\n",
    "\n",
    "- **Write a program with a function that has a default parameter, like a greeting with an optional message.**\n",
    "  - Define `def say_hello(name, message=\"Welcome!\"):` that prints \"[name], [message]\". Call it with `say_hello(\"Alice\")` and `say_hello(\"Bob\", \"Good day!\")`. Include comments explaining how default parameters work if no value is provided.\n",
    "\n",
    "## Scope\n",
    "- **Create a program that shows the difference between local and global variables by using the same variable name inside and outside a function.**\n",
    "  - Define a global variable like `x = 10`. Inside a function, define `x = 5` and print it. Print `x` outside the function too. Include comments explaining that the local `x` inside the function is separate from the global `x`.\n",
    "\n",
    "- **Write a script that uses a global variable inside a function to keep track of how many times the function was called.**\n",
    "  - Define a global `count = 0`. In a function, use the `global` keyword to increment `count` each time it’s called. Call the function multiple times and print `count`. Add comments explaining how `global` lets a function modify a variable outside its scope.\n",
    "\n",
    "- **Create a program that demonstrates a local variable in a function and tries to access it outside, showing what happens.**\n",
    "  - Define a function with a local variable like `y = 20` and print it inside. Try printing `y` outside the function to show the error. Include comments explaining that local variables only exist inside the function where they’re defined."
   ]
  }
 ],
 "metadata": {
  "kernelspec": {
   "display_name": "base",
   "language": "python",
   "name": "python3"
  },
  "language_info": {
   "name": "python",
   "version": "3.12.3"
  }
 },
 "nbformat": 4,
 "nbformat_minor": 5
}
