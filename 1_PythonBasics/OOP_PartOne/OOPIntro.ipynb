{
 "cells": [
  {
   "cell_type": "markdown",
   "id": "2dfe5a8f",
   "metadata": {},
   "source": [
    "1. Introduce 4 pillars of OOP\n",
    "2. Inheritance\n",
    "3. Encapsulation\n",
    "4. Abstraction\n",
    "5. Polymorphism\n",
    "6. Building a class\n",
    "7. Class access (multi-file)"
   ]
  },
  {
   "cell_type": "markdown",
   "id": "1940a18a",
   "metadata": {},
   "source": [
    "# OOP Explained\n",
    "\n",
    "I will explain initialisation and classes first, then we will attempt to understand OOP for beginners with this, then the four pillars:\n",
    "\n",
    "1. Encapsulation – Bundling data and behavior together, hiding internal details.\n",
    "\n",
    "2. Abstraction – Hiding complexity behind a simple interface.\n",
    "\n",
    "3. Inheritance – Creating new classes based on existing ones.\n",
    "\n",
    "4. Polymorphism – Objects that behave differently depending on their class."
   ]
  },
  {
   "cell_type": "markdown",
   "id": "33cc48d0",
   "metadata": {},
   "source": [
    "A class is like a blueprint for creating objects. It defines what **attributes (data)** and **behaviours (methods)** an object will have.\n",
    "\n",
    "Real-world analogy:\n",
    "Think of a class as the blueprint of a car. You can manufacture many car objects using the same design, each with its own colour, brand, and speed."
   ]
  },
  {
   "cell_type": "code",
   "execution_count": null,
   "id": "2a386cc6",
   "metadata": {},
   "outputs": [],
   "source": [
    "class Dog:\n",
    "    def __init__(self, name, breed):\n",
    "        self.name = name    # Attribute\n",
    "        self.breed = breed  # Attribute\n",
    "\n",
    "    def bark(self):         # Method\n",
    "        print(f\"{self.name} says Woof!\")\n",
    "\n",
    "# Example usage\n",
    "my_dog = Dog(\"Buddy\", \"Golden Retriever\")\n",
    "my_dog.bark()  # Output: Buddy says Woof!"
   ]
  },
  {
   "cell_type": "markdown",
   "id": "8fbe2de0",
   "metadata": {},
   "source": [
    "### Constructors (```__init__``` method)\n",
    "The constructor is a special method in Python called ```__init__```. It runs automatically when a new object is created. self refers to the object being created. You typically use ```__init__``` to initialise default or passed-in values."
   ]
  },
  {
   "cell_type": "code",
   "execution_count": null,
   "id": "a8001a1d",
   "metadata": {},
   "outputs": [],
   "source": [
    "class Book:\n",
    "    def __init__(self, title, author):\n",
    "        self.title = title    # Assign to instance\n",
    "        self.author = author\n",
    "\n",
    "book1 = Book(\"1984\", \"George Orwell\")\n",
    "print(book1.title)  # Output: 1984\n",
    "print(book1.author)  # Output: George Orwell"
   ]
  },
  {
   "cell_type": "markdown",
   "id": "27f37466",
   "metadata": {},
   "source": [
    "### Getter And Setter Methods\n",
    "\n",
    "These are accessor and mutator methods used to safely get or set the values of private attributes.\n",
    "\n",
    "Why use them?\n",
    "Encapsulation! You want to control access to your data and apply checks/logic when needed."
   ]
  },
  {
   "cell_type": "code",
   "execution_count": null,
   "id": "9d182ffb",
   "metadata": {},
   "outputs": [],
   "source": [
    "class Student:\n",
    "    def __init__(self, name):\n",
    "        self.__name = name   # Double underscore = private attribute\n",
    "\n",
    "    def get_name(self):      # Getter\n",
    "        return self.__name\n",
    "\n",
    "    def set_name(self, new_name):  # Setter\n",
    "        if isinstance(new_name, str) and new_name.strip():\n",
    "            self.__name = new_name\n",
    "        else:\n",
    "            print(\"Invalid name\")\n",
    "\n",
    "# Example usage\n",
    "student = Student(\"Alice\")\n",
    "print(student.get_name())  # Output: Alice\n",
    "student.set_name(\"Bob\")\n",
    "print(student.get_name())  # Output: Bob"
   ]
  },
  {
   "cell_type": "markdown",
   "id": "dee8ff37",
   "metadata": {},
   "source": [
    "### Encapsulation\n",
    "\n",
    "Encapsulation means hiding internal state and requiring interaction through methods. It protects the integrity of the data.\n",
    "\n",
    "Access Control in Python:\n",
    "\n",
    "Python doesn’t have explicit public, private, or protected keywords like Java or C++, but it uses naming conventions:\n",
    "\n",
    "| Prefix | Access Type | Explanations|\n",
    "|--------|-------------|-------------|\n",
    "| name   | Public      | Fully accessible |\n",
    "| _name  | Protected   | For internal class use only |\n",
    "| __name | Private | No external access |"
   ]
  },
  {
   "cell_type": "code",
   "execution_count": null,
   "id": "4381a8b3",
   "metadata": {},
   "outputs": [],
   "source": [
    "class Account:\n",
    "    def __init__(self, holder, balance):\n",
    "        self.holder = holder          # Public\n",
    "        self.__balance = balance      # Private\n",
    "\n",
    "    def deposit(self, amount):\n",
    "        if amount > 0:\n",
    "            self.__balance += amount\n",
    "\n",
    "    def get_balance(self):            # Getter\n",
    "        return self.__balance\n",
    "\n",
    "acc = Account(\"Sahas\", 1000)\n",
    "acc.deposit(500)\n",
    "print(acc.get_balance())    # Safe access\n",
    "print(acc.__balance)        # Error: can't access private attribute"
   ]
  },
  {
   "cell_type": "markdown",
   "id": "9acbfd0f",
   "metadata": {},
   "source": [
    "### Abstraction\n",
    "\n",
    "Imagine you’re using a vending machine. You don’t care how it works inside—all you care about is that:\n",
    "\n",
    "You put in money,\n",
    "\n",
    "You select an item,\n",
    "\n",
    "You get your snack.\n",
    "\n",
    "The internal mechanics—coin counters, item release systems—are abstracted away."
   ]
  },
  {
   "cell_type": "code",
   "execution_count": null,
   "id": "86a61bbc",
   "metadata": {},
   "outputs": [],
   "source": [
    "class VendingMachine:\n",
    "    def __init__(self):\n",
    "        self._inventory = {\n",
    "            \"soda\": 10,\n",
    "            \"chips\": 5,\n",
    "            \"candy\": 2\n",
    "        }\n",
    "        self._prices = {\n",
    "            \"soda\": 1.5,\n",
    "            \"chips\": 2.0,\n",
    "            \"candy\": 1.0\n",
    "        }\n",
    "\n",
    "    def buy_item(self, item, money):\n",
    "        if item not in self._inventory:\n",
    "            return \"Item not available.\"\n",
    "        if self._inventory[item] == 0:\n",
    "            return \"Out of stock.\"\n",
    "        if money < self._prices[item]:\n",
    "            return f\"Insufficient funds. {item} costs £{self._prices[item]}\"\n",
    "        \n",
    "        self._inventory[item] -= 1\n",
    "        change = round(money - self._prices[item], 2)\n",
    "        return f\"Dispensing {item}. Change: £{change}\"\n",
    "\n",
    "# Example usage\n",
    "vm = VendingMachine()\n",
    "print(vm.buy_item(\"soda\", 2.0))  # Dispensing soda. Change: £0.5\n",
    "print(vm.buy_item(\"chips\", 1.0))  # Insufficient funds. chips costs £2.0\n",
    "print(vm.buy_item(\"candy\", 1.0))  # Dispensing candy. Change: £0.0\n",
    "print(vm.buy_item(\"water\", 1.0))  # Item not available.     "
   ]
  },
  {
   "cell_type": "markdown",
   "id": "b2b46c55",
   "metadata": {},
   "source": [
    "### Inheritance\n",
    "\n",
    "Inheritance lets one class inherit the attributes and methods of another, reducing repetition.\n",
    "\n",
    "Access Control & Inheritance:\n",
    "\n",
    "Public members are fully inherited.\n",
    "\n",
    "Protected (single underscore) members are inherited but should be used cautiously.\n",
    "\n",
    "Private members (__var) are not inherited directly, but you can use getters/setters from the base class."
   ]
  },
  {
   "cell_type": "code",
   "execution_count": null,
   "id": "74384d61",
   "metadata": {},
   "outputs": [],
   "source": [
    "class Animal:\n",
    "    def __init__(self, name):\n",
    "        self._name = name  # Protected\n",
    "\n",
    "    def speak(self):\n",
    "        print(f\"{self._name} makes a sound.\")\n",
    "\n",
    "class Dog(Animal):\n",
    "    def speak(self):\n",
    "        print(f\"{self._name} barks!\")\n",
    "\n",
    "pet = Dog(\"Rex\")\n",
    "pet.speak()"
   ]
  },
  {
   "cell_type": "markdown",
   "id": "9431acfd",
   "metadata": {},
   "source": [
    "#### Parent and Child Classes\n",
    "\n",
    "Parent Class (Base or Superclass)\n",
    "\n",
    "A class that defines common attributes and behaviors.\n",
    "\n",
    "Child Class (Derived or Subclass)\n",
    "\n",
    "Inherits from the parent and can:\n",
    "\n",
    "Use parent methods/attributes as-is,\n",
    "\n",
    "Extend with new behavior,\n",
    "\n",
    "Override behavior."
   ]
  },
  {
   "cell_type": "code",
   "execution_count": null,
   "id": "3c33db52",
   "metadata": {},
   "outputs": [],
   "source": [
    "class Animal:  # Parent\n",
    "    def speak(self):\n",
    "        print(\"Animal speaks\")\n",
    "\n",
    "class Dog(Animal):  # Child\n",
    "    def bark(self):\n",
    "        print(\"Dog barks\")\n",
    "\n",
    "d = Dog()\n",
    "d.speak()  # Inherited from Animal\n",
    "d.bark()   # Defined in Dog\n",
    "\n",
    "# Example of method overriding\n",
    "\n",
    "class Dog(Animal):\n",
    "    def speak(self):  # Overriding the parent method\n",
    "        print(\"Woof!\")"
   ]
  },
  {
   "cell_type": "markdown",
   "id": "ed495fe9",
   "metadata": {},
   "source": [
    "#### Multiple Inheritance\n",
    "\n",
    "Python allows a class to inherit from more than one parent, unlike some other languages."
   ]
  },
  {
   "cell_type": "code",
   "execution_count": null,
   "id": "4c7fe9af",
   "metadata": {},
   "outputs": [],
   "source": [
    "class Flyer:\n",
    "    def fly(self):\n",
    "        print(\"Flying high!\")\n",
    "\n",
    "class Swimmer:\n",
    "    def swim(self):\n",
    "        print(\"Swimming fast!\")\n",
    "\n",
    "class Duck(Flyer, Swimmer):  # Inherits from both\n",
    "    def quack(self):\n",
    "        print(\"Quack!\")\n",
    "\n",
    "donald = Duck()\n",
    "donald.fly()     # From Flyer\n",
    "donald.swim()    # From Swimmer\n",
    "donald.quack()   # Its own method\n",
    "\n"
   ]
  },
  {
   "cell_type": "markdown",
   "id": "d71a2d58",
   "metadata": {},
   "source": [
    "#### Method Resolution Order\n",
    "\n",
    "If both parents have the same method name, Python uses the **Method Resolution Order** (MRO)—essentially, the left-to-right order of parent classes during inheritance."
   ]
  },
  {
   "cell_type": "code",
   "execution_count": null,
   "id": "5ea8cb31",
   "metadata": {},
   "outputs": [],
   "source": [
    "class A:\n",
    "    def greet(self):\n",
    "        print(\"Hello from A\")\n",
    "\n",
    "class B:\n",
    "    def greet(self):\n",
    "        print(\"Hello from B\")\n",
    "\n",
    "class C(A, B):  # A comes before B\n",
    "    pass\n",
    "\n",
    "C().greet()  # Hello from A"
   ]
  },
  {
   "cell_type": "markdown",
   "id": "e8d376f3",
   "metadata": {},
   "source": [
    "### Polymorphism\n",
    "\n",
    "Polymorphism allows different classes to respond to the same method name in their own way.\n",
    "\n",
    "This happens via method overriding, where a child class replaces a method from the parent.\n",
    "\n",
    "You get cleaner structure and true OOP design when combining inheritance with method overriding:"
   ]
  },
  {
   "cell_type": "code",
   "execution_count": null,
   "id": "1414ec44",
   "metadata": {},
   "outputs": [],
   "source": [
    "class Shape:\n",
    "    def area(self):\n",
    "        raise NotImplementedError\n",
    "\n",
    "class Square(Shape):\n",
    "    def __init__(self, side):\n",
    "        self.side = side\n",
    "\n",
    "    def area(self):\n",
    "        return self.side * self.side\n",
    "\n",
    "class Circle(Shape):\n",
    "    def __init__(self, radius):\n",
    "        self.radius = radius\n",
    "\n",
    "    def area(self):\n",
    "        from math import pi\n",
    "        return pi * self.radius * self.radius\n",
    "\n",
    "# Example usage\n",
    "shapes = [Square(4), Circle(3)]\n",
    "for shape in shapes:\n",
    "    print(f\"Area: {shape.area()}\")  # Calls the overridden method\n",
    "    "
   ]
  },
  {
   "cell_type": "markdown",
   "id": "25459acf",
   "metadata": {},
   "source": [
    "#### What Is Operator Overloading?\n",
    "\n",
    "In Python, operators like ```+, -, *, ==``` are actually **methods** in disguise. Operator overloading lets you define how these operators behave when used with your custom objects.\n",
    "\n",
    "Think of it as teaching Python how to intuitively handle your own data types."
   ]
  },
  {
   "cell_type": "code",
   "execution_count": null,
   "id": "06b24186",
   "metadata": {},
   "outputs": [],
   "source": [
    "class Point:\n",
    "    def __init__(self, x, y):\n",
    "        self.x = x\n",
    "        self.y = y\n",
    "\n",
    "    def __add__(self, other):  # Overloading '+'\n",
    "        return Point(self.x + other.x, self.y + other.y)\n",
    "\n",
    "    def __str__(self):\n",
    "        return f\"({self.x}, {self.y})\"\n",
    "\n",
    "p1 = Point(2, 3)\n",
    "p2 = Point(5, 7)\n",
    "p3 = p1 + p2  # Uses the overloaded '+' operator\n",
    "print(p3)  # Output: (7, 10)\n",
    "\n",
    "# Example of operator overloading\n",
    "class Vector:\n",
    "    def __init__(self, x, y):\n",
    "        self.x = x\n",
    "        self.y = y\n",
    "\n",
    "    def __add__(self, other):  # Overloading '+'\n",
    "        return Vector(self.x + other.x, self.y + other.y)\n",
    "\n",
    "    def __sub__(self, other):  # Overloading '-'\n",
    "        return Vector(self.x - other.x, self.y - other.y)\n",
    "\n",
    "    def __mul__(self, scalar):  # Overloading '*'\n",
    "        return Vector(self.x * scalar, self.y * scalar)\n",
    "\n",
    "    def __str__(self):\n",
    "        return f\"({self.x}, {self.y})\"\n",
    "    \n",
    "v1 = Vector(2, 3)\n",
    "v2 = Vector(5, 7)\n",
    "v3 = v1 + v2  # Uses the overloaded '+' operator\n",
    "v4 = v1 - v2  # Uses the overloaded '-' operator\n",
    "v5 = v1 * 3    # Uses the overloaded '*' operator\n",
    "print(v3)  # Output: (7, 10)\n",
    "print(v4)  # Output: (-3, -4)\n",
    "print(v5)  # Output: (6, 9)"
   ]
  }
 ],
 "metadata": {
  "kernelspec": {
   "display_name": "base",
   "language": "python",
   "name": "python3"
  },
  "language_info": {
   "name": "python",
   "version": "3.12.3"
  }
 },
 "nbformat": 4,
 "nbformat_minor": 5
}
