{
 "cells": [
  {
   "cell_type": "markdown",
   "id": "2dfe5a8f",
   "metadata": {},
   "source": [
    "1. Introduce 4 pillars of OOP\n",
    "2. Inheritance\n",
    "3. Encapsulation\n",
    "4. Abstraction\n",
    "5. Polymorphism\n",
    "6. Building a class\n",
    "7. Class access (multi-file)"
   ]
  }
 ],
 "metadata": {
  "language_info": {
   "name": "python"
  }
 },
 "nbformat": 4,
 "nbformat_minor": 5
}
