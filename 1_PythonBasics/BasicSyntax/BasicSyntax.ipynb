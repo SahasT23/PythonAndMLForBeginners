{
 "cells": [
  {
   "cell_type": "markdown",
   "id": "3885b5c8",
   "metadata": {},
   "source": [
    "# THINGS TO ADD\n",
    "\n",
    "1. Basic Syntax.\n",
    "2. ```__main__``` method\n",
    "3. variable types\n",
    "4. Interpreters"
   ]
  }
 ],
 "metadata": {
  "kernelspec": {
   "display_name": "base",
   "language": "python",
   "name": "python3"
  },
  "language_info": {
   "codemirror_mode": {
    "name": "ipython",
    "version": 3
   },
   "file_extension": ".py",
   "mimetype": "text/x-python",
   "name": "python",
   "nbconvert_exporter": "python",
   "pygments_lexer": "ipython3",
   "version": "3.12.3"
  }
 },
 "nbformat": 4,
 "nbformat_minor": 5
}
