{
 "cells": [
  {
   "cell_type": "markdown",
   "id": "89a150ad",
   "metadata": {},
   "source": [
    "# Concurrency \n",
    "\n",
    "Multiprocessing, GIL explained, threading (software and hardware), optimisations using concurrency. Petri Nets?? I don't know yet"
   ]
  },
  {
   "cell_type": "code",
   "execution_count": null,
   "id": "2a259d64",
   "metadata": {},
   "outputs": [],
   "source": []
  }
 ],
 "metadata": {
  "language_info": {
   "name": "python"
  }
 },
 "nbformat": 4,
 "nbformat_minor": 5
}
